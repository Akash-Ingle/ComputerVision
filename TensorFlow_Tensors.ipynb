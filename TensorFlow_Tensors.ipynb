{
  "nbformat": 4,
  "nbformat_minor": 0,
  "metadata": {
    "colab": {
      "provenance": [],
      "toc_visible": true,
      "gpuType": "T4",
      "authorship_tag": "ABX9TyMXduiNWP/qUgDWnMGqR763",
      "include_colab_link": true
    },
    "kernelspec": {
      "name": "python3",
      "display_name": "Python 3"
    },
    "language_info": {
      "name": "python"
    },
    "accelerator": "GPU"
  },
  "cells": [
    {
      "cell_type": "markdown",
      "metadata": {
        "id": "view-in-github",
        "colab_type": "text"
      },
      "source": [
        "<a href=\"https://colab.research.google.com/github/Akash-Ingle/ComputerVision/blob/main/TensorFlow_Tensors.ipynb\" target=\"_parent\"><img src=\"https://colab.research.google.com/assets/colab-badge.svg\" alt=\"Open In Colab\"/></a>"
      ]
    },
    {
      "cell_type": "code",
      "execution_count": null,
      "metadata": {
        "id": "qP6Ujur0RKCC"
      },
      "outputs": [],
      "source": [
        "import tensorflow as tf"
      ]
    },
    {
      "cell_type": "code",
      "source": [
        "tensor_zero_d = tf.constant(4)\n",
        "print(tensor_zero_d)\n",
        "print(tensor_zero_d.shape)"
      ],
      "metadata": {
        "colab": {
          "base_uri": "https://localhost:8080/"
        },
        "id": "EDnaosdsSY2-",
        "outputId": "2c98ad7a-4c6e-40c8-85f3-b289d48491a1"
      },
      "execution_count": null,
      "outputs": [
        {
          "output_type": "stream",
          "name": "stdout",
          "text": [
            "tf.Tensor(4, shape=(), dtype=int32)\n",
            "()\n"
          ]
        }
      ]
    },
    {
      "cell_type": "code",
      "source": [
        "tensor_one_d = tf.constant([1, 2, 3, 4])\n",
        "print(tensor_one_d)"
      ],
      "metadata": {
        "colab": {
          "base_uri": "https://localhost:8080/"
        },
        "id": "95jhrCZwSt8w",
        "outputId": "ee7847d8-8300-41ba-da03-4e06e414d385"
      },
      "execution_count": null,
      "outputs": [
        {
          "output_type": "stream",
          "name": "stdout",
          "text": [
            "tf.Tensor([1 2 3 4], shape=(4,), dtype=int32)\n"
          ]
        }
      ]
    },
    {
      "cell_type": "code",
      "source": [
        "tensor_two_d = tf.constant([\n",
        "    [1, 2, 3],\n",
        "    [4, 5, 6],\n",
        "    [7, 8, 9],\n",
        "    [10, 11, 12]\n",
        "])\n",
        "print(tensor_two_d)"
      ],
      "metadata": {
        "colab": {
          "base_uri": "https://localhost:8080/"
        },
        "id": "Ufr9qOglTGLW",
        "outputId": "1c05ea91-9073-4b74-cc75-d330360c1681"
      },
      "execution_count": null,
      "outputs": [
        {
          "output_type": "stream",
          "name": "stdout",
          "text": [
            "tf.Tensor(\n",
            "[[ 1  2  3]\n",
            " [ 4  5  6]\n",
            " [ 7  8  9]\n",
            " [10 11 12]], shape=(4, 3), dtype=int32)\n"
          ]
        }
      ]
    },
    {
      "cell_type": "code",
      "source": [
        "tensor_three_d = tf.constant([\n",
        "    [[1, 2, 3],\n",
        " [4, 5, 6]],\n",
        "\n",
        "[[7, 8, 9],\n",
        "[1, 2, 3]],\n",
        "\n",
        "[[4, 5, 6],\n",
        " [7, 8, 9]],\n",
        "\n",
        "[[1, 2, 3],\n",
        " [4, 5, 6]]\n",
        "])\n",
        "print(tensor_three_d)\n"
      ],
      "metadata": {
        "colab": {
          "base_uri": "https://localhost:8080/"
        },
        "id": "fnEQIqGIT9Zk",
        "outputId": "d3311204-5571-4608-8411-03c9f44ef01b"
      },
      "execution_count": null,
      "outputs": [
        {
          "output_type": "stream",
          "name": "stdout",
          "text": [
            "tf.Tensor(\n",
            "[[[1 2 3]\n",
            "  [4 5 6]]\n",
            "\n",
            " [[7 8 9]\n",
            "  [1 2 3]]\n",
            "\n",
            " [[4 5 6]\n",
            "  [7 8 9]]\n",
            "\n",
            " [[1 2 3]\n",
            "  [4 5 6]]], shape=(4, 2, 3), dtype=int32)\n"
          ]
        }
      ]
    },
    {
      "cell_type": "code",
      "source": [
        "print(tensor_three_d.shape)\n",
        "print(tensor_three_d.ndim)"
      ],
      "metadata": {
        "colab": {
          "base_uri": "https://localhost:8080/"
        },
        "id": "Qg7kcEr1VEUg",
        "outputId": "18c4787f-3d86-40d2-e10c-37f88cff5c86"
      },
      "execution_count": null,
      "outputs": [
        {
          "output_type": "stream",
          "name": "stdout",
          "text": [
            "(4, 2, 3)\n",
            "3\n"
          ]
        }
      ]
    },
    {
      "cell_type": "code",
      "source": [
        "tensor_string = tf.constant([\"hello world\", \"hi\"])\n",
        "print(tensor_string)"
      ],
      "metadata": {
        "colab": {
          "base_uri": "https://localhost:8080/"
        },
        "id": "S66RBac8Vnfn",
        "outputId": "18a47d33-dbe4-456c-d8f4-eb9b6666504b"
      },
      "execution_count": null,
      "outputs": [
        {
          "output_type": "stream",
          "name": "stdout",
          "text": [
            "tf.Tensor([b'hello world' b'hi'], shape=(2,), dtype=string)\n"
          ]
        }
      ]
    },
    {
      "cell_type": "code",
      "source": [
        "import numpy as np\n",
        "np_array = np.array([1, 2, 3])\n",
        "print(np_array)"
      ],
      "metadata": {
        "colab": {
          "base_uri": "https://localhost:8080/"
        },
        "id": "ao9FdLnlbh0F",
        "outputId": "b4293e5d-07d3-407d-82e0-bc72d260e1cd"
      },
      "execution_count": null,
      "outputs": [
        {
          "output_type": "stream",
          "name": "stdout",
          "text": [
            "[1 2 3]\n"
          ]
        }
      ]
    },
    {
      "cell_type": "code",
      "source": [
        "converted_tensor = tf.convert_to_tensor(np_array)\n",
        "print(converted_tensor)"
      ],
      "metadata": {
        "colab": {
          "base_uri": "https://localhost:8080/"
        },
        "id": "-L6G4hmHcZBT",
        "outputId": "2ea23b38-c0e0-4461-f50e-c22aedfc5102"
      },
      "execution_count": null,
      "outputs": [
        {
          "output_type": "stream",
          "name": "stdout",
          "text": [
            "tf.Tensor([1 2 3], shape=(3,), dtype=int64)\n"
          ]
        }
      ]
    },
    {
      "cell_type": "code",
      "source": [
        "tf.eye(\n",
        "    num_rows=3,\n",
        "    num_columns=None,\n",
        "    batch_shape=[2, 4],\n",
        "    dtype=tf.dtypes.float32,\n",
        "    name=None\n",
        ")"
      ],
      "metadata": {
        "colab": {
          "base_uri": "https://localhost:8080/"
        },
        "id": "eIjwkrQ6clmN",
        "outputId": "70d47594-652b-4f0d-ce19-78b34ffe8442"
      },
      "execution_count": null,
      "outputs": [
        {
          "output_type": "execute_result",
          "data": {
            "text/plain": [
              "<tf.Tensor: shape=(2, 4, 3, 3), dtype=float32, numpy=\n",
              "array([[[[1., 0., 0.],\n",
              "         [0., 1., 0.],\n",
              "         [0., 0., 1.]],\n",
              "\n",
              "        [[1., 0., 0.],\n",
              "         [0., 1., 0.],\n",
              "         [0., 0., 1.]],\n",
              "\n",
              "        [[1., 0., 0.],\n",
              "         [0., 1., 0.],\n",
              "         [0., 0., 1.]],\n",
              "\n",
              "        [[1., 0., 0.],\n",
              "         [0., 1., 0.],\n",
              "         [0., 0., 1.]]],\n",
              "\n",
              "\n",
              "       [[[1., 0., 0.],\n",
              "         [0., 1., 0.],\n",
              "         [0., 0., 1.]],\n",
              "\n",
              "        [[1., 0., 0.],\n",
              "         [0., 1., 0.],\n",
              "         [0., 0., 1.]],\n",
              "\n",
              "        [[1., 0., 0.],\n",
              "         [0., 1., 0.],\n",
              "         [0., 0., 1.]],\n",
              "\n",
              "        [[1., 0., 0.],\n",
              "         [0., 1., 0.],\n",
              "         [0., 0., 1.]]]], dtype=float32)>"
            ]
          },
          "metadata": {},
          "execution_count": 9
        }
      ]
    },
    {
      "cell_type": "code",
      "source": [
        "tf.fill(\n",
        "    [2,3], 9\n",
        ")"
      ],
      "metadata": {
        "colab": {
          "base_uri": "https://localhost:8080/"
        },
        "id": "83vwEnHsdWHn",
        "outputId": "07011f0d-cdd0-4493-e9cc-c1f94a248d93"
      },
      "execution_count": null,
      "outputs": [
        {
          "output_type": "execute_result",
          "data": {
            "text/plain": [
              "<tf.Tensor: shape=(2, 3), dtype=int32, numpy=\n",
              "array([[9, 9, 9],\n",
              "       [9, 9, 9]], dtype=int32)>"
            ]
          },
          "metadata": {},
          "execution_count": 10
        }
      ]
    },
    {
      "cell_type": "code",
      "source": [
        "# Indexes\n",
        "tensor_indexed = tf.constant([3, 6, 2, 4, 6, 66, 7])\n",
        "print(tensor_indexed)\n",
        "print(tensor_indexed[0:4])\n",
        "print(tensor_indexed[1:6:2])"
      ],
      "metadata": {
        "id": "L0lCeRY_e-QE",
        "colab": {
          "base_uri": "https://localhost:8080/"
        },
        "outputId": "1ba0c3e9-98ac-4385-bf32-fd6eb1512923"
      },
      "execution_count": null,
      "outputs": [
        {
          "output_type": "stream",
          "name": "stdout",
          "text": [
            "tf.Tensor([ 3  6  2  4  6 66  7], shape=(7,), dtype=int32)\n",
            "tf.Tensor([3 6 2 4], shape=(4,), dtype=int32)\n",
            "tf.Tensor([ 6  4 66], shape=(3,), dtype=int32)\n"
          ]
        }
      ]
    },
    {
      "cell_type": "code",
      "source": [
        "tf.range(2, 5+1)"
      ],
      "metadata": {
        "colab": {
          "base_uri": "https://localhost:8080/"
        },
        "id": "4-4d_tbHDO6p",
        "outputId": "ec301bf7-cd22-4acf-fca3-ce474e45c91f"
      },
      "execution_count": null,
      "outputs": [
        {
          "output_type": "execute_result",
          "data": {
            "text/plain": [
              "<tf.Tensor: shape=(4,), dtype=int32, numpy=array([2, 3, 4, 5], dtype=int32)>"
            ]
          },
          "metadata": {},
          "execution_count": 5
        }
      ]
    },
    {
      "cell_type": "code",
      "source": [
        "tensor_two_d = tf.constant([[1, 2, 0],\n",
        "                            [3, 5, -1],\n",
        "                            [1, 5, 6],\n",
        "                            [2, 3, 8]])\n",
        "print(tensor_two_d[0:3,0:2])"
      ],
      "metadata": {
        "colab": {
          "base_uri": "https://localhost:8080/"
        },
        "id": "frr8aKA0D7xc",
        "outputId": "2f661df1-a597-4875-8c13-4b5a7969c14d"
      },
      "execution_count": null,
      "outputs": [
        {
          "output_type": "stream",
          "name": "stdout",
          "text": [
            "tf.Tensor(\n",
            "[[1 2]\n",
            " [3 5]\n",
            " [1 5]], shape=(3, 2), dtype=int32)\n"
          ]
        }
      ]
    },
    {
      "cell_type": "code",
      "source": [
        "# Math Operations\n",
        "x_abs = tf.constant([-2.25, 3.25])\n",
        "tf.abs(x_abs)"
      ],
      "metadata": {
        "colab": {
          "base_uri": "https://localhost:8080/"
        },
        "id": "3dTC-ShFFTr8",
        "outputId": "ce141fad-cbf8-4bfc-f800-6ac8128891a5"
      },
      "execution_count": null,
      "outputs": [
        {
          "output_type": "execute_result",
          "data": {
            "text/plain": [
              "<tf.Tensor: shape=(2,), dtype=float32, numpy=array([2.25, 3.25], dtype=float32)>"
            ]
          },
          "metadata": {},
          "execution_count": 12
        }
      ]
    },
    {
      "cell_type": "code",
      "source": [
        "x_abs_complex = tf.constant([-2.25 + 4.75j])\n",
        "tf.abs(x_abs_complex)"
      ],
      "metadata": {
        "colab": {
          "base_uri": "https://localhost:8080/"
        },
        "id": "08rLEPwYIpHH",
        "outputId": "9d37aca4-95e0-4eff-a163-ff9d0f20f23a"
      },
      "execution_count": null,
      "outputs": [
        {
          "output_type": "execute_result",
          "data": {
            "text/plain": [
              "<tf.Tensor: shape=(1,), dtype=float64, numpy=array([5.25594901])>"
            ]
          },
          "metadata": {},
          "execution_count": 13
        }
      ]
    },
    {
      "cell_type": "code",
      "source": [
        "x1 = tf.constant([1, 2, 3, 4, 5])\n",
        "x2 = tf.constant([6, 7, 8, 9, 10])\n",
        "print(tf.multiply(x1, x2))"
      ],
      "metadata": {
        "colab": {
          "base_uri": "https://localhost:8080/"
        },
        "id": "0t-Gr8hBJhPV",
        "outputId": "5d807578-951b-4560-c0cd-2bcb3c42b9e1"
      },
      "execution_count": null,
      "outputs": [
        {
          "output_type": "stream",
          "name": "stdout",
          "text": [
            "tf.Tensor([ 6 14 24 36 50], shape=(5,), dtype=int32)\n"
          ]
        }
      ]
    },
    {
      "cell_type": "code",
      "source": [
        "x1 = tf.constant([1, 2, 3, 4, 5])\n",
        "x2 = tf.constant([6])\n",
        "print(tf.add(x1, x2))"
      ],
      "metadata": {
        "colab": {
          "base_uri": "https://localhost:8080/"
        },
        "id": "XsY9Jy_nKg6e",
        "outputId": "8856ca4c-ca8c-4956-e69d-8c9706c6b1cf"
      },
      "execution_count": null,
      "outputs": [
        {
          "output_type": "stream",
          "name": "stdout",
          "text": [
            "tf.Tensor([ 7  8  9 10 11], shape=(5,), dtype=int32)\n"
          ]
        }
      ]
    },
    {
      "cell_type": "markdown",
      "source": [],
      "metadata": {
        "id": "0NuII6CjJFhU"
      }
    },
    {
      "cell_type": "code",
      "source": [
        "x_1 = tf.constant([[5,3,6,6,4,6]], dtype = tf.float32)\n",
        "x_2 = tf.constant([[7], [5], [3]], dtype = tf.float32)\n",
        "\n",
        "print(x_1.shape)\n",
        "print(x_2.shape)\n",
        "print(tf.math.multiply(x_1, x_2))"
      ],
      "metadata": {
        "id": "qpV_rCzaLJTe",
        "colab": {
          "base_uri": "https://localhost:8080/"
        },
        "outputId": "ad32db1d-b958-42a4-c477-ccb2ff044823"
      },
      "execution_count": null,
      "outputs": [
        {
          "output_type": "stream",
          "name": "stdout",
          "text": [
            "(1, 6)\n",
            "(3, 1)\n",
            "tf.Tensor(\n",
            "[[35. 21. 42. 42. 28. 42.]\n",
            " [25. 15. 30. 30. 20. 30.]\n",
            " [15.  9. 18. 18. 12. 18.]], shape=(3, 6), dtype=float32)\n"
          ]
        }
      ]
    },
    {
      "cell_type": "code",
      "source": [
        "tf.transpose(x_1)"
      ],
      "metadata": {
        "id": "AXAWBgduJG5U",
        "colab": {
          "base_uri": "https://localhost:8080/"
        },
        "outputId": "fc340ab2-727f-4bfa-9653-24559bb4773c"
      },
      "execution_count": null,
      "outputs": [
        {
          "output_type": "execute_result",
          "data": {
            "text/plain": [
              "<tf.Tensor: shape=(6, 1), dtype=float32, numpy=\n",
              "array([[5.],\n",
              "       [3.],\n",
              "       [6.],\n",
              "       [6.],\n",
              "       [4.],\n",
              "       [6.]], dtype=float32)>"
            ]
          },
          "metadata": {},
          "execution_count": 4
        }
      ]
    },
    {
      "cell_type": "code",
      "source": [],
      "metadata": {
        "id": "RjSCufVVlud3"
      },
      "execution_count": null,
      "outputs": []
    }
  ]
}